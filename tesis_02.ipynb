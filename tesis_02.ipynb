{
 "cells": [
  {
   "cell_type": "code",
   "execution_count": 11,
   "metadata": {},
   "outputs": [
    {
     "ename": "SyntaxError",
     "evalue": "'(' was never closed (335372922.py, line 15)",
     "output_type": "error",
     "traceback": [
      "\u001b[1;36m  Cell \u001b[1;32mIn[11], line 15\u001b[1;36m\u001b[0m\n\u001b[1;33m    ubicación=SL.SolarSystemLocation(lat=35.015, lon=25.755, mer=mer, dt_gmt=dt_gmt\u001b[0m\n\u001b[1;37m                                    ^\u001b[0m\n\u001b[1;31mSyntaxError\u001b[0m\u001b[1;31m:\u001b[0m '(' was never closed\n"
     ]
    }
   ],
   "source": [
    "import random\n",
    "import CombiCSP.solar_trough as ST\n",
    "import CombiCSP.solar_system_location as SL\n",
    "\n",
    "# Generar valores aleatorios para mer y dt_gmt\n",
    "mer = random.uniform(0, 360)\n",
    "dt_gmt = random.uniform(-12, 12)\n",
    "\n",
    "ancho_apertura=0.88\n",
    "longitud_focal=1800\n",
    "reflectividad=25\n",
    "emisividad_receptor=18\n",
    "transmitancia=0.07\n",
    "relación_de_concentración=5.76\n",
    "ubicación=SL.SolarSystemLocation(lat=35.015, lon=25.755, mer=mer, dt_gmt=dt_gmt)\n",
    "\n",
    "# Ingresar solo las variables a la función\n",
    "solar_trough = ST.SolarTroughCalcs(\n",
    "    ancho_apertura,\n",
    "    longitud_focal,\n",
    "    reflectividad,\n",
    "    emisividad_receptor,\n",
    "    transmitancia,\n",
    "    relación_de_concentración,\n",
    "    SL.SolarSystemLocation(lat=35.015, lon=25.755, mer=mer, dt_gmt=dt_gmt)\n",
    ")"
   ]
  },
  {
   "cell_type": "code",
   "execution_count": null,
   "metadata": {},
   "outputs": [],
   "source": []
  }
 ],
 "metadata": {
  "kernelspec": {
   "display_name": "entorno",
   "language": "python",
   "name": "python3"
  },
  "language_info": {
   "codemirror_mode": {
    "name": "ipython",
    "version": 3
   },
   "file_extension": ".py",
   "mimetype": "text/x-python",
   "name": "python",
   "nbconvert_exporter": "python",
   "pygments_lexer": "ipython3",
   "version": "3.11.9"
  }
 },
 "nbformat": 4,
 "nbformat_minor": 2
}
