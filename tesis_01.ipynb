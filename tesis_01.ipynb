{
 "cells": [
  {
   "cell_type": "markdown",
   "metadata": {},
   "source": [
    "# Cálculo de CSP función \"Solar Trough Calcs\""
   ]
  },
  {
   "cell_type": "code",
   "execution_count": 1,
   "metadata": {},
   "outputs": [],
   "source": [
    "import CombiCSP.solar_trough as ST\n",
    "import CombiCSP.solar_system_location as SL\n",
    "import CombiCSP.SolarGeometry as SG"
   ]
  },
  {
   "cell_type": "code",
   "execution_count": 2,
   "metadata": {},
   "outputs": [],
   "source": [
    "import random\n",
    "# Generar valores aleatorios para mer y dt_gmt\n",
    "mer = random.uniform(0, 360)\n",
    "dt_gmt = random.uniform(-12, 12)\n",
    "\n",
    "# Crear una instancia de SolarTroughCalcs con valores aleatorios para mer y dt_gmt\n",
    "solar_trough = ST.SolarTroughCalcs(0.88, 1800, 25, 18, 0.07, 5.76, SL.SolarSystemLocation(lat=35.015, lon=25.755, mer=mer, dt_gmt=dt_gmt))"
   ]
  },
  {
   "cell_type": "markdown",
   "metadata": {},
   "source": [
    "## Salida de Datos"
   ]
  },
  {
   "cell_type": "code",
   "execution_count": 3,
   "metadata": {},
   "outputs": [
    {
     "name": "stdout",
     "output_type": "stream",
     "text": [
      "\n",
      "--------  System Parameters\n",
      "-> Focal Lentth     (foc_len) = 0.88  \n",
      "-> Number of units  (   N   ) = 1800      \n",
      "-> Unit length      (   L   ) =  25 \n",
      "-> Unit spacing?    (   Ws  ) = 18 \n",
      "-> Receiver width   (   Wr  ) = 0.07\n",
      "-> Collector width  (   Wc  ) = 5.76\n",
      "--------  Derived Quantities\n",
      "-> Collector area   (   Ac  ) = 259200.0\n",
      "-> Receiver area    (   Ar  ) = 3150.0000000000005\n",
      "-> Concetration f   (   Cg  ) = 82.28571428571428\n",
      "        \n"
     ]
    }
   ],
   "source": [
    "solar_trough.print_system_summary()"
   ]
  },
  {
   "cell_type": "code",
   "execution_count": 4,
   "metadata": {},
   "outputs": [],
   "source": [
    "import pandas as pd\n",
    "import numpy as np\n",
    "\n",
    "# Asumiendo un valor promedio de irradiación solar de 800 W/m^2\n",
    "Ib = pd.Series(np.random.rand(8760))\n",
    "\n",
    "# Valores opcionales\n",
    "Tr = 318"
   ]
  },
  {
   "cell_type": "markdown",
   "metadata": {},
   "source": [
    "## Cálculos de funcionamiento de Este a Oeste"
   ]
  },
  {
   "cell_type": "code",
   "execution_count": 5,
   "metadata": {},
   "outputs": [
    {
     "name": "stdout",
     "output_type": "stream",
     "text": [
      "Datos calculados: 0      -7.449119\n",
      "1      -7.460327\n",
      "2      -7.461625\n",
      "3      -7.454700\n",
      "4      -7.450093\n",
      "          ...   \n",
      "8755   -7.468824\n",
      "8756   -7.459894\n",
      "8757   -7.460488\n",
      "8758   -7.445827\n",
      "8759   -7.457147\n",
      "Length: 8760, dtype: float64\n",
      "Área heliostática: 259200.0\n",
      "Ctow: 82.28571428571428\n"
     ]
    }
   ],
   "source": [
    "# Obtener el objeto OutputContainer con los resultados\n",
    "resultados = solar_trough.perform_calcs_EW(Ib, Tr, SL.HOYS_DEFAULT)\n",
    "\n",
    "# Acceder a los valores específicos dentro del objeto OutputContainer\n",
    "datos_calculados = resultados.data\n",
    "area_heliostatica = resultados.A_helio\n",
    "Ctow = resultados.Ctow\n",
    "\n",
    "# Imprimir los valores\n",
    "print(\"Datos calculados:\", datos_calculados)\n",
    "print(\"Área heliostática:\", area_heliostatica)\n",
    "print(\"Ctow:\", Ctow)"
   ]
  },
  {
   "cell_type": "markdown",
   "metadata": {},
   "source": [
    "## $cos(\\theta)$ de Este a Oeste"
   ]
  },
  {
   "cell_type": "code",
   "execution_count": 6,
   "metadata": {},
   "outputs": [
    {
     "data": {
      "text/plain": [
       "array([0.743085  , 0.58499251, 0.43523543, ..., 0.9918728 , 0.95987856,\n",
       "       0.87419058])"
      ]
     },
     "execution_count": 6,
     "metadata": {},
     "output_type": "execute_result"
    }
   ],
   "source": [
    "costheta_EW = solar_trough.costhetai_EW(SL.HOYS_DEFAULT)\n",
    "costheta_EW"
   ]
  },
  {
   "cell_type": "markdown",
   "metadata": {},
   "source": [
    "## Cálculos de funcionamiento de Norte a Sud"
   ]
  },
  {
   "cell_type": "code",
   "execution_count": 7,
   "metadata": {},
   "outputs": [
    {
     "name": "stdout",
     "output_type": "stream",
     "text": [
      "Datos calculados: 0      -7.438871\n",
      "1      -7.447201\n",
      "2      -7.439876\n",
      "3      -7.416277\n",
      "4      -7.420199\n",
      "          ...   \n",
      "8755   -7.467656\n",
      "8756   -7.459587\n",
      "8757   -7.460716\n",
      "8758   -7.445017\n",
      "8759   -7.454220\n",
      "Length: 8760, dtype: float64\n",
      "Área heliostática: 259200.0\n",
      "Ctow: 82.28571428571428\n"
     ]
    }
   ],
   "source": [
    "resultados1 = solar_trough.perform_calcs_NS(Ib, Tr, SL.HOYS_DEFAULT)\n",
    "# Acceder a los valores específicos dentro del objeto OutputContainer\n",
    "datos_calculados1 = resultados1.data\n",
    "area_heliostatica1 = resultados1.A_helio\n",
    "Ctow1 = resultados1.Ctow\n",
    "\n",
    "# Imprimir los valores\n",
    "print(\"Datos calculados:\", datos_calculados1)\n",
    "print(\"Área heliostática:\", area_heliostatica1)\n",
    "print(\"Ctow:\", Ctow1)"
   ]
  },
  {
   "cell_type": "markdown",
   "metadata": {},
   "source": [
    "## $cos(\\theta)$ de Norte a Sud"
   ]
  },
  {
   "cell_type": "code",
   "execution_count": 8,
   "metadata": {},
   "outputs": [
    {
     "data": {
      "text/plain": [
       "array([0.99873588, 0.99832908, 0.9830427 , ..., 0.97958707, 0.98339305,\n",
       "       0.99176581])"
      ]
     },
     "execution_count": 8,
     "metadata": {},
     "output_type": "execute_result"
    }
   ],
   "source": [
    "costheta_NS = solar_trough.costhetai_NS(SL.HOYS_DEFAULT)\n",
    "costheta_NS"
   ]
  },
  {
   "cell_type": "markdown",
   "metadata": {},
   "source": [
    "## $\\theta_{i}$"
   ]
  },
  {
   "cell_type": "code",
   "execution_count": 9,
   "metadata": {},
   "outputs": [
    {
     "data": {
      "text/plain": [
       "array([1.52050941, 1.51297956, 1.38637594, ..., 1.36839692, 1.38829633,\n",
       "       1.44237889])"
      ]
     },
     "execution_count": 9,
     "metadata": {},
     "output_type": "execute_result"
    }
   ],
   "source": [
    "incl = 90\n",
    "azim = 0\n",
    "theta_i = solar_trough.thetai(SL.HOYS_DEFAULT, incl, azim)\n",
    "theta_i"
   ]
  },
  {
   "cell_type": "markdown",
   "metadata": {},
   "source": [
    "## Modificador del ángulo de incidencia de la placa solar"
   ]
  },
  {
   "cell_type": "code",
   "execution_count": 10,
   "metadata": {},
   "outputs": [
    {
     "data": {
      "text/plain": [
       "array([1.00642747, 1.00651471, 1.00780416, ..., 1.00796011, 1.0077871 ,\n",
       "       1.0072751 ])"
      ]
     },
     "execution_count": 10,
     "metadata": {},
     "output_type": "execute_result"
    }
   ],
   "source": [
    "IAM_tro = solar_trough.IAM_tro(SL.HOYS_DEFAULT)\n",
    "IAM_tro"
   ]
  },
  {
   "cell_type": "markdown",
   "metadata": {},
   "source": [
    "## Potencia total del sistema parabólico"
   ]
  },
  {
   "cell_type": "code",
   "execution_count": 11,
   "metadata": {},
   "outputs": [
    {
     "data": {
      "text/plain": [
       "0      -7.476890\n",
       "1      -7.477308\n",
       "2      -7.476909\n",
       "3      -7.475584\n",
       "4      -7.475595\n",
       "          ...   \n",
       "8755   -7.478334\n",
       "8756   -7.477917\n",
       "8757   -7.477971\n",
       "8758   -7.477173\n",
       "8759   -7.477654\n",
       "Length: 8760, dtype: float64"
      ]
     },
     "execution_count": 11,
     "metadata": {},
     "output_type": "execute_result"
    }
   ],
   "source": [
    "import math\n",
    "nG = 0.97\n",
    "costheta = math.cos(theta_i[0])\n",
    "di_sst = solar_trough.di_sst(SL.HOYS_DEFAULT, Ib, costheta, Tr, nG)\n",
    "di_sst"
   ]
  },
  {
   "cell_type": "markdown",
   "metadata": {},
   "source": [
    "## Energía incidente en el sistema"
   ]
  },
  {
   "cell_type": "code",
   "execution_count": 12,
   "metadata": {},
   "outputs": [
    {
     "data": {
      "text/plain": [
       "0       0.566138\n",
       "1       0.448338\n",
       "2       0.551931\n",
       "3       0.885659\n",
       "4       0.830193\n",
       "          ...   \n",
       "8755    0.159074\n",
       "8756    0.273187\n",
       "8757    0.257212\n",
       "8758    0.479234\n",
       "8759    0.349080\n",
       "Length: 8760, dtype: float64"
      ]
     },
     "execution_count": 12,
     "metadata": {},
     "output_type": "execute_result"
    }
   ],
   "source": [
    "incident_energy_on_system = solar_trough.incident_energy_on_system('NS', Ib, SL.HOYS_DEFAULT)\n",
    "incident_energy_on_system"
   ]
  },
  {
   "cell_type": "markdown",
   "metadata": {},
   "source": [
    "## Nueva Instancia"
   ]
  },
  {
   "cell_type": "code",
   "execution_count": 13,
   "metadata": {},
   "outputs": [
    {
     "data": {
      "text/plain": [
       "array([0.79649662, 0.64560417, 0.48645136, ..., 0.98921985, 0.97846807,\n",
       "       0.91216944])"
      ]
     },
     "execution_count": 13,
     "metadata": {},
     "output_type": "execute_result"
    }
   ],
   "source": [
    "solar_location = SL.SolarSystemLocation(lat=35.015, lon=25.755, mer=5, dt_gmt=0)\n",
    "\n",
    "# Modificamos algunos atributos de 'solar_trough' usando el método 'mutate'\n",
    "nueva_instancia = solar_trough.mutate(foc_len=100, N=200, slobj=solar_location)\n",
    "nueva_instancia.costhetai_EW(SL.HOYS_DEFAULT)"
   ]
  },
  {
   "cell_type": "markdown",
   "metadata": {},
   "source": [
    "# Funciones Independientes"
   ]
  },
  {
   "cell_type": "markdown",
   "metadata": {},
   "source": [
    "## Modificador del ángulo de incidencia de la placa solar"
   ]
  },
  {
   "cell_type": "code",
   "execution_count": 14,
   "metadata": {},
   "outputs": [
    {
     "data": {
      "text/plain": [
       "array([1.00797954, 1.00766053, 1.00697884, ..., 1.00696434, 1.00763131,\n",
       "       1.00793591])"
      ]
     },
     "execution_count": 14,
     "metadata": {},
     "output_type": "execute_result"
    }
   ],
   "source": [
    "IAM_tro = ST.IAM_tro(SL.HOYS_DEFAULT)\n",
    "IAM_tro"
   ]
  },
  {
   "cell_type": "code",
   "execution_count": 15,
   "metadata": {},
   "outputs": [
    {
     "data": {
      "text/plain": [
       "array([0.99894507, 0.99890795, 0.9988361 , ..., 0.99883465, 0.99890468,\n",
       "       0.99893983])"
      ]
     },
     "execution_count": 15,
     "metadata": {},
     "output_type": "execute_result"
    }
   ],
   "source": [
    "IAM_tro2 = ST.IAM_tro2(SL.HOYS_DEFAULT)\n",
    "IAM_tro2"
   ]
  },
  {
   "cell_type": "code",
   "execution_count": 16,
   "metadata": {},
   "outputs": [
    {
     "data": {
      "text/plain": [
       "array([0.99917745, 0.99914635, 0.9990859 , ..., 0.99908469, 0.9991436 ,\n",
       "       0.99917306])"
      ]
     },
     "execution_count": 16,
     "metadata": {},
     "output_type": "execute_result"
    }
   ],
   "source": [
    "IAM_tro3 = ST.IAM_tro3(SL.HOYS_DEFAULT)\n",
    "IAM_tro3"
   ]
  },
  {
   "cell_type": "code",
   "execution_count": 17,
   "metadata": {},
   "outputs": [
    {
     "data": {
      "text/plain": [
       "array([0.97416524, 0.97348066, 0.97217961, ..., 0.97215385, 0.97342075,\n",
       "       0.97406804])"
      ]
     },
     "execution_count": 17,
     "metadata": {},
     "output_type": "execute_result"
    }
   ],
   "source": [
    "foc_len = 1\n",
    "area = 2\n",
    "L = 1\n",
    "\n",
    "\n",
    "IAM_tro4 = ST.IAM_tro4(SL.HOYS_DEFAULT, foc_len, area, L,)\n",
    "IAM_tro4"
   ]
  },
  {
   "cell_type": "code",
   "execution_count": 18,
   "metadata": {},
   "outputs": [
    {
     "data": {
      "text/plain": [
       "array([0.97912287, 0.98583564, 0.99502974, ..., 0.99516442, 0.98636181,\n",
       "       0.98015434])"
      ]
     },
     "execution_count": 18,
     "metadata": {},
     "output_type": "execute_result"
    }
   ],
   "source": [
    "costheta_i = ST.costhetai(SL.HOYS_DEFAULT)\n",
    "costheta_i"
   ]
  },
  {
   "cell_type": "code",
   "execution_count": 19,
   "metadata": {},
   "outputs": [
    {
     "data": {
      "text/plain": [
       "array([0.98367892, 0.92414056, 0.81399477, ..., 0.82928278, 0.93324832,\n",
       "       0.98640678])"
      ]
     },
     "execution_count": 19,
     "metadata": {},
     "output_type": "execute_result"
    }
   ],
   "source": [
    "costheta_EW = ST.costhetai_EW(SL.HOYS_DEFAULT)\n",
    "costheta_EW"
   ]
  },
  {
   "cell_type": "code",
   "execution_count": 20,
   "metadata": {},
   "outputs": [
    {
     "data": {
      "text/plain": [
       "array([0.97912287, 0.98583564, 0.99502974, ..., 0.99516442, 0.98636181,\n",
       "       0.98015434])"
      ]
     },
     "execution_count": 20,
     "metadata": {},
     "output_type": "execute_result"
    }
   ],
   "source": [
    "costheta_NS = ST.costhetai_NS(SL.HOYS_DEFAULT)\n",
    "costheta_NS"
   ]
  },
  {
   "cell_type": "code",
   "execution_count": 21,
   "metadata": {},
   "outputs": [
    {
     "data": {
      "text/plain": [
       "1"
      ]
     },
     "execution_count": 21,
     "metadata": {},
     "output_type": "execute_result"
    }
   ],
   "source": [
    "Wc = 1\n",
    "N = 1\n",
    "Ac = ST.Ac(Wc, L, N)\n",
    "Ac"
   ]
  },
  {
   "cell_type": "code",
   "execution_count": 22,
   "metadata": {},
   "outputs": [
    {
     "data": {
      "text/plain": [
       "1"
      ]
     },
     "execution_count": 22,
     "metadata": {},
     "output_type": "execute_result"
    }
   ],
   "source": [
    "Wr = 1\n",
    "ST.Ar(Wr, L, N)"
   ]
  },
  {
   "cell_type": "code",
   "execution_count": 23,
   "metadata": {},
   "outputs": [
    {
     "data": {
      "text/plain": [
       "1.0"
      ]
     },
     "execution_count": 23,
     "metadata": {},
     "output_type": "execute_result"
    }
   ],
   "source": [
    "ST.Cg_tro(Wc, Wr, L, N)"
   ]
  },
  {
   "cell_type": "code",
   "execution_count": 24,
   "metadata": {},
   "outputs": [
    {
     "data": {
      "text/plain": [
       "0      -0.002374\n",
       "1      -0.002374\n",
       "2      -0.002374\n",
       "3      -0.002374\n",
       "4      -0.002374\n",
       "          ...   \n",
       "8755   -0.002374\n",
       "8756   -0.002374\n",
       "8757   -0.002374\n",
       "8758   -0.002374\n",
       "8759   -0.002374\n",
       "Length: 8760, dtype: float64"
      ]
     },
     "execution_count": 24,
     "metadata": {},
     "output_type": "execute_result"
    }
   ],
   "source": [
    "Ws = 1\n",
    "ST.di_sst(Ib, costheta_i, IAM_tro,Tr, Wc, Wr, Ws, L, N, nG)"
   ]
  },
  {
   "cell_type": "code",
   "execution_count": 29,
   "metadata": {},
   "outputs": [
    {
     "data": {
      "text/plain": [
       "0.05715885685940374"
      ]
     },
     "execution_count": 29,
     "metadata": {},
     "output_type": "execute_result"
    }
   ],
   "source": [
    "ST.CSCUL(SL.HOYS_DEFAULT)"
   ]
  },
  {
   "cell_type": "code",
   "execution_count": 34,
   "metadata": {},
   "outputs": [
    {
     "name": "stderr",
     "output_type": "stream",
     "text": [
      "c:\\Users\\heber\\Desktop\\Combi_CSP\\CombiCSP\\solar_trough.py:556: UserWarning: Could not infer format, so each element will be parsed individually, falling back to `dateutil`. To ensure parsing is consistent and as-expected, please specify a format.\n",
      "  pvgis_data = pd.read_csv(fname, header=16, nrows=8776-16, parse_dates=['time(UTC)'], engine='python')\n"
     ]
    },
    {
     "data": {
      "text/plain": [
       "0       9.998077\n",
       "1       9.998077\n",
       "2       9.998077\n",
       "3       9.998077\n",
       "4       9.998077\n",
       "          ...   \n",
       "8755    9.998077\n",
       "8756    9.998077\n",
       "8757    9.998077\n",
       "8758    9.998077\n",
       "8759    9.998077\n",
       "Name: Gb(n), Length: 8760, dtype: float64"
      ]
     },
     "execution_count": 34,
     "metadata": {},
     "output_type": "execute_result"
    }
   ],
   "source": [
    "Tfi = 10\n",
    "fname = 'tmy_35.015_25.755_2005_2020.csv'\n",
    "ST.CSCP(Tfi, SL.HOYS_DEFAULT, fname)"
   ]
  },
  {
   "cell_type": "code",
   "execution_count": null,
   "metadata": {},
   "outputs": [],
   "source": []
  },
  {
   "cell_type": "code",
   "execution_count": null,
   "metadata": {},
   "outputs": [],
   "source": []
  }
 ],
 "metadata": {
  "kernelspec": {
   "display_name": "entorno",
   "language": "python",
   "name": "python3"
  },
  "language_info": {
   "codemirror_mode": {
    "name": "ipython",
    "version": 3
   },
   "file_extension": ".py",
   "mimetype": "text/x-python",
   "name": "python",
   "nbconvert_exporter": "python",
   "pygments_lexer": "ipython3",
   "version": "3.12.2"
  }
 },
 "nbformat": 4,
 "nbformat_minor": 2
}
