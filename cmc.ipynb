{
 "cells": [
  {
   "cell_type": "code",
   "execution_count": 5,
   "metadata": {},
   "outputs": [
    {
     "name": "stdout",
     "output_type": "stream",
     "text": [
      "Bitcoin (BTC): 70197.243 USD\n",
      "Ethereum (ETH): 3542.568 USD\n",
      "Tether USDt (USDT): 1.001 USD\n",
      "BNB (BNB): 605.985 USD\n",
      "Solana (SOL): 197.032 USD\n"
     ]
    }
   ],
   "source": [
    "import requests\n",
    "\n",
    "# Definir la URL base del API de CoinMarketCap\n",
    "url = 'https://pro-api.coinmarketcap.com/v1/cryptocurrency/listings/latest'\n",
    "\n",
    "# Definir los parámetros de la solicitud\n",
    "parameters = {\n",
    "    'start':'1',\n",
    "    'limit':'5',\n",
    "    'convert':'USD'\n",
    "}\n",
    "\n",
    "# Agregar tu API key de CoinMarketCap\n",
    "headers = {\n",
    "    'Accepts': 'application/json',\n",
    "    'X-CMC_PRO_API_KEY': 'dcf42a12-b7fe-479b-86e3-f8b970e471ae',\n",
    "}\n",
    "\n",
    "# Realizar la solicitud GET al API de CoinMarketCap\n",
    "response = requests.get(url, headers=headers, params=parameters)\n",
    "\n",
    "# Verificar el estado de la respuesta\n",
    "if response.status_code == 200:\n",
    "    # Convertir la respuesta a formato JSON\n",
    "    data = response.json()\n",
    "    \n",
    "    # Iterar sobre los datos y mostrar la información básica de las primeras 5 criptomonedas\n",
    "    for crypto in data['data']:\n",
    "        name = crypto['name']\n",
    "        symbol = crypto['symbol']\n",
    "        price = crypto['quote']['USD']['price']\n",
    "        # Formatear el precio con tres decimales\n",
    "        formatted_price = '{:.3f}'.format(price)\n",
    "        print(f\"{name} ({symbol}): {formatted_price} USD\")\n",
    "else:\n",
    "    print('Error al obtener los datos del API.')\n"
   ]
  },
  {
   "cell_type": "code",
   "execution_count": 8,
   "metadata": {},
   "outputs": [
    {
     "name": "stdout",
     "output_type": "stream",
     "text": [
      "[1711792800000, '70008.32000000', '70110.95000000', '69940.08000000', '70042.19000000', '405.86018000', 1711796399999, '28419833.48478980', 32669, '218.84342000', '15324116.80406670', '0']\n",
      "[1711796400000, '70042.19000000', '70183.67000000', '70042.19000000', '70183.55000000', '623.01928000', 1711799999999, '43684558.37809420', 49223, '292.58756000', '20514155.24944730', '0']\n",
      "[1711800000000, '70183.54000000', '70218.90000000', '70090.00000000', '70218.89000000', '487.51039000', 1711803599999, '34200706.09996750', 36711, '206.87613000', '14512894.08160590', '0']\n",
      "[1711803600000, '70218.89000000', '70269.15000000', '70075.78000000', '70148.05000000', '458.50059000', 1711807199999, '32180537.76859600', 41386, '199.52476000', '14003907.97735000', '0']\n",
      "[1711807200000, '70148.04000000', '70173.02000000', '69985.30000000', '70009.99000000', '501.38241000', 1711810799999, '35145806.37376460', 38135, '205.82643000', '14426731.45545980', '0']\n"
     ]
    }
   ],
   "source": [
    "import requests\n",
    "\n",
    "API_KEY = 'JkCTK8YdkKBvd7A6sZiSy21VOeMZOVfeBGQ27Fprui9ALIfcb2UZ16Xatuz0owcN'\n",
    "API_SECRET = 'pxk9iIGY9X4SGIn1E2ZmfTKJulcfj9EtBIV8HWHMxtg9OcDc3FIEfbAaZNjKc3Ws'\n",
    "\n",
    "def obtener_lecturas(symbol, interval, limit=5):\n",
    "    url = f\"https://api.binance.com/api/v1/klines?symbol={symbol}&interval={interval}&limit={limit}\"\n",
    "    headers = {'X-MBX-APIKEY': API_KEY}\n",
    "    response = requests.get(url, headers=headers)\n",
    "    if response.status_code == 200:\n",
    "        data = response.json()\n",
    "        return data\n",
    "    else:\n",
    "        print(\"Error al obtener las lecturas:\", response.status_code)\n",
    "        return None\n",
    "\n",
    "# Ejemplo de uso:\n",
    "symbol = \"BTCUSDT\"  # Par de trading, en este caso Bitcoin a dólar estadounidense\n",
    "interval = \"1h\"     # Intervalo de tiempo, por ejemplo, 1 hora\n",
    "limit = 5           # Número de lecturas que deseas obtener, máximo 1000\n",
    "lecturas = obtener_lecturas(symbol, interval, limit)\n",
    "\n",
    "if lecturas:\n",
    "    for lectura in lecturas:\n",
    "        print(lectura)\n",
    "else:\n",
    "    print(\"No se pudieron obtener las lecturas.\")\n"
   ]
  },
  {
   "cell_type": "code",
   "execution_count": null,
   "metadata": {},
   "outputs": [],
   "source": []
  }
 ],
 "metadata": {
  "kernelspec": {
   "display_name": "entorno",
   "language": "python",
   "name": "python3"
  },
  "language_info": {
   "codemirror_mode": {
    "name": "ipython",
    "version": 3
   },
   "file_extension": ".py",
   "mimetype": "text/x-python",
   "name": "python",
   "nbconvert_exporter": "python",
   "pygments_lexer": "ipython3",
   "version": "3.12.2"
  }
 },
 "nbformat": 4,
 "nbformat_minor": 2
}
